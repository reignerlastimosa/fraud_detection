{
  "cells": [
    {
      "cell_type": "markdown",
      "metadata": {
        "id": "view-in-github",
        "colab_type": "text"
      },
      "source": [
        "<a href=\"https://colab.research.google.com/github/reignerlastimosa/fraud_detection/blob/main/Fraud_Detection.ipynb\" target=\"_parent\"><img src=\"https://colab.research.google.com/assets/colab-badge.svg\" alt=\"Open In Colab\"/></a>"
      ]
    },
    {
      "cell_type": "code",
      "execution_count": null,
      "id": "d7204db8",
      "metadata": {
        "id": "d7204db8"
      },
      "outputs": [],
      "source": [
        "#Importing libraries\n",
        "import pandas as pd\n",
        "import numpy as nm\n",
        "from matplotlib import pyplot as mtp"
      ]
    },
    {
      "cell_type": "code",
      "execution_count": null,
      "id": "e29075dc",
      "metadata": {
        "id": "e29075dc",
        "outputId": "38da6856-76b2-4009-b2f8-ff82ec27302e"
      },
      "outputs": [
        {
          "data": {
            "text/html": [
              "<div>\n",
              "<style scoped>\n",
              "    .dataframe tbody tr th:only-of-type {\n",
              "        vertical-align: middle;\n",
              "    }\n",
              "\n",
              "    .dataframe tbody tr th {\n",
              "        vertical-align: top;\n",
              "    }\n",
              "\n",
              "    .dataframe thead th {\n",
              "        text-align: right;\n",
              "    }\n",
              "</style>\n",
              "<table border=\"1\" class=\"dataframe\">\n",
              "  <thead>\n",
              "    <tr style=\"text-align: right;\">\n",
              "      <th></th>\n",
              "      <th>step</th>\n",
              "      <th>type</th>\n",
              "      <th>amount</th>\n",
              "      <th>nameOrig</th>\n",
              "      <th>oldbalanceOrg</th>\n",
              "      <th>newbalanceOrig</th>\n",
              "      <th>nameDest</th>\n",
              "      <th>oldbalanceDest</th>\n",
              "      <th>newbalanceDest</th>\n",
              "      <th>isFraud</th>\n",
              "      <th>isFlaggedFraud</th>\n",
              "    </tr>\n",
              "  </thead>\n",
              "  <tbody>\n",
              "    <tr>\n",
              "      <th>0</th>\n",
              "      <td>1</td>\n",
              "      <td>PAYMENT</td>\n",
              "      <td>9839.64</td>\n",
              "      <td>C1231006815</td>\n",
              "      <td>170136.0</td>\n",
              "      <td>160296.36</td>\n",
              "      <td>M1979787155</td>\n",
              "      <td>0.0</td>\n",
              "      <td>0.0</td>\n",
              "      <td>0</td>\n",
              "      <td>0</td>\n",
              "    </tr>\n",
              "    <tr>\n",
              "      <th>1</th>\n",
              "      <td>1</td>\n",
              "      <td>PAYMENT</td>\n",
              "      <td>1864.28</td>\n",
              "      <td>C1666544295</td>\n",
              "      <td>21249.0</td>\n",
              "      <td>19384.72</td>\n",
              "      <td>M2044282225</td>\n",
              "      <td>0.0</td>\n",
              "      <td>0.0</td>\n",
              "      <td>0</td>\n",
              "      <td>0</td>\n",
              "    </tr>\n",
              "    <tr>\n",
              "      <th>2</th>\n",
              "      <td>1</td>\n",
              "      <td>TRANSFER</td>\n",
              "      <td>181.00</td>\n",
              "      <td>C1305486145</td>\n",
              "      <td>181.0</td>\n",
              "      <td>0.00</td>\n",
              "      <td>C553264065</td>\n",
              "      <td>0.0</td>\n",
              "      <td>0.0</td>\n",
              "      <td>1</td>\n",
              "      <td>0</td>\n",
              "    </tr>\n",
              "    <tr>\n",
              "      <th>3</th>\n",
              "      <td>1</td>\n",
              "      <td>CASH_OUT</td>\n",
              "      <td>181.00</td>\n",
              "      <td>C840083671</td>\n",
              "      <td>181.0</td>\n",
              "      <td>0.00</td>\n",
              "      <td>C38997010</td>\n",
              "      <td>21182.0</td>\n",
              "      <td>0.0</td>\n",
              "      <td>1</td>\n",
              "      <td>0</td>\n",
              "    </tr>\n",
              "    <tr>\n",
              "      <th>4</th>\n",
              "      <td>1</td>\n",
              "      <td>PAYMENT</td>\n",
              "      <td>11668.14</td>\n",
              "      <td>C2048537720</td>\n",
              "      <td>41554.0</td>\n",
              "      <td>29885.86</td>\n",
              "      <td>M1230701703</td>\n",
              "      <td>0.0</td>\n",
              "      <td>0.0</td>\n",
              "      <td>0</td>\n",
              "      <td>0</td>\n",
              "    </tr>\n",
              "  </tbody>\n",
              "</table>\n",
              "</div>"
            ],
            "text/plain": [
              "   step      type    amount     nameOrig  oldbalanceOrg  newbalanceOrig  \\\n",
              "0     1   PAYMENT   9839.64  C1231006815       170136.0       160296.36   \n",
              "1     1   PAYMENT   1864.28  C1666544295        21249.0        19384.72   \n",
              "2     1  TRANSFER    181.00  C1305486145          181.0            0.00   \n",
              "3     1  CASH_OUT    181.00   C840083671          181.0            0.00   \n",
              "4     1   PAYMENT  11668.14  C2048537720        41554.0        29885.86   \n",
              "\n",
              "      nameDest  oldbalanceDest  newbalanceDest  isFraud  isFlaggedFraud  \n",
              "0  M1979787155             0.0             0.0        0               0  \n",
              "1  M2044282225             0.0             0.0        0               0  \n",
              "2   C553264065             0.0             0.0        1               0  \n",
              "3    C38997010         21182.0             0.0        1               0  \n",
              "4  M1230701703             0.0             0.0        0               0  "
            ]
          },
          "execution_count": 2,
          "metadata": {},
          "output_type": "execute_result"
        }
      ],
      "source": [
        "#Importing the data\n",
        "dataset = pd.read_csv('fraud.csv')\n",
        "dataset.head()"
      ]
    },
    {
      "cell_type": "code",
      "execution_count": null,
      "id": "fb268e16",
      "metadata": {
        "id": "fb268e16",
        "outputId": "5f1921f0-9adc-4858-cda2-7beae5ab69ce"
      },
      "outputs": [
        {
          "data": {
            "text/plain": [
              "step              0\n",
              "type              0\n",
              "amount            0\n",
              "nameOrig          0\n",
              "oldbalanceOrg     0\n",
              "newbalanceOrig    0\n",
              "nameDest          0\n",
              "oldbalanceDest    0\n",
              "newbalanceDest    0\n",
              "isFraud           0\n",
              "isFlaggedFraud    0\n",
              "dtype: int64"
            ]
          },
          "execution_count": 3,
          "metadata": {},
          "output_type": "execute_result"
        }
      ],
      "source": [
        "dataset.isnull().sum()"
      ]
    },
    {
      "cell_type": "code",
      "execution_count": null,
      "id": "d1ddb593",
      "metadata": {
        "id": "d1ddb593",
        "outputId": "62c7c507-a380-4cb9-f846-30baa22496eb"
      },
      "outputs": [
        {
          "data": {
            "text/plain": [
              "array([[9.83964000e+03, 1.70136000e+05, 1.60296360e+05, 0.00000000e+00,\n",
              "        0.00000000e+00],\n",
              "       [1.86428000e+03, 2.12490000e+04, 1.93847200e+04, 0.00000000e+00,\n",
              "        0.00000000e+00],\n",
              "       [1.81000000e+02, 1.81000000e+02, 0.00000000e+00, 0.00000000e+00,\n",
              "        0.00000000e+00],\n",
              "       ...,\n",
              "       [6.31140928e+06, 6.31140928e+06, 0.00000000e+00, 6.84888400e+04,\n",
              "        6.37989811e+06],\n",
              "       [8.50002520e+05, 8.50002520e+05, 0.00000000e+00, 0.00000000e+00,\n",
              "        0.00000000e+00],\n",
              "       [8.50002520e+05, 8.50002520e+05, 0.00000000e+00, 6.51009911e+06,\n",
              "        7.36010163e+06]])"
            ]
          },
          "execution_count": 4,
          "metadata": {},
          "output_type": "execute_result"
        }
      ],
      "source": [
        "#Extracting Independent and dependent Variable  \n",
        "x= dataset.iloc[:, [2,4,5,7,8]].values  \n",
        "y= dataset.iloc[:, 9].values  \n",
        "x"
      ]
    },
    {
      "cell_type": "code",
      "execution_count": null,
      "id": "679cbeb2",
      "metadata": {
        "id": "679cbeb2"
      },
      "outputs": [],
      "source": [
        "# Splitting the dataset into the Training set and Test set  \n",
        "from sklearn.model_selection import train_test_split  \n",
        "x_train, x_test, y_train, y_test = train_test_split(x, y, test_size = 0.25, random_state = 0)  "
      ]
    },
    {
      "cell_type": "code",
      "execution_count": null,
      "id": "b1f61f32",
      "metadata": {
        "id": "b1f61f32"
      },
      "outputs": [],
      "source": [
        "# Feature Scaling  \n",
        "from sklearn.preprocessing import StandardScaler  \n",
        "sc = StandardScaler()  \n",
        "x_train = sc.fit_transform(x_train)  \n",
        "x_test = sc.transform(x_test)  "
      ]
    },
    {
      "cell_type": "markdown",
      "id": "fe50321f",
      "metadata": {
        "id": "fe50321f"
      },
      "source": [
        "# Naive Bayes"
      ]
    },
    {
      "cell_type": "code",
      "execution_count": null,
      "id": "61a9137f",
      "metadata": {
        "id": "61a9137f",
        "outputId": "81d01ffb-aaa4-404b-9e64-ce3d8f6071df"
      },
      "outputs": [
        {
          "data": {
            "text/plain": [
              "GaussianNB()"
            ]
          },
          "execution_count": 7,
          "metadata": {},
          "output_type": "execute_result"
        }
      ],
      "source": [
        "# Fitting Naive Bayes to the Training set  \n",
        "from sklearn.naive_bayes import GaussianNB  \n",
        "classifier = GaussianNB()  \n",
        "classifier.fit(x_train, y_train)  "
      ]
    },
    {
      "cell_type": "code",
      "execution_count": null,
      "id": "e74479b1",
      "metadata": {
        "id": "e74479b1"
      },
      "outputs": [],
      "source": [
        "# Predicting the Test set results  \n",
        "y_pred = classifier.predict(x_test)  "
      ]
    },
    {
      "cell_type": "code",
      "execution_count": null,
      "id": "535d9501",
      "metadata": {
        "id": "535d9501",
        "outputId": "f1f71faf-44c6-4f22-e847-3b4502602010"
      },
      "outputs": [
        {
          "data": {
            "text/plain": [
              "array([0, 0, 0, ..., 0, 0, 0], dtype=int64)"
            ]
          },
          "execution_count": 9,
          "metadata": {},
          "output_type": "execute_result"
        }
      ],
      "source": [
        "y_pred"
      ]
    },
    {
      "cell_type": "code",
      "execution_count": null,
      "id": "2c6d97a2",
      "metadata": {
        "id": "2c6d97a2"
      },
      "outputs": [],
      "source": [
        "# Making the Confusion Matrix  \n",
        "from sklearn.metrics import confusion_matrix  \n",
        "cm = confusion_matrix(y_test, y_pred)  "
      ]
    },
    {
      "cell_type": "code",
      "execution_count": null,
      "id": "dc631209",
      "metadata": {
        "id": "dc631209",
        "outputId": "2dbb96cb-e10b-49bb-b603-82c46c7a3f01"
      },
      "outputs": [
        {
          "data": {
            "text/plain": [
              "array([[1578712,    9916],\n",
              "       [   1675,     352]], dtype=int64)"
            ]
          },
          "execution_count": 11,
          "metadata": {},
          "output_type": "execute_result"
        }
      ],
      "source": [
        "cm"
      ]
    },
    {
      "cell_type": "code",
      "execution_count": null,
      "id": "3b03a148",
      "metadata": {
        "id": "3b03a148",
        "outputId": "a0004863-59c3-463b-902f-7b60462ee90b"
      },
      "outputs": [
        {
          "data": {
            "image/png": "[encoded data removed]",
            "text/plain": [
              "<Figure size 432x288 with 2 Axes>"
            ]
          },
          "metadata": {
            "needs_background": "light"
          },
          "output_type": "display_data"
        }
      ],
      "source": [
        "import seaborn as sns\n",
        "import matplotlib.pyplot as plt\n",
        "ax = sns.heatmap(cm, annot=True, cmap='Blues')\n",
        "\n",
        "ax.set_title('Seaborn Confusion Matrix with labels\\n\\n');\n",
        "ax.set_xlabel('\\nPredicted Values')\n",
        "ax.set_ylabel('Actual Values ');\n",
        "\n",
        "## Ticket labels - List must be in alphabetical order\n",
        "ax.xaxis.set_ticklabels(['False','True'])\n",
        "ax.yaxis.set_ticklabels(['False','True'])\n",
        "\n",
        "## Display the visualization of the Confusion Matrix.\n",
        "plt.show()"
      ]
    },
    {
      "cell_type": "code",
      "execution_count": null,
      "id": "15da1454",
      "metadata": {
        "id": "15da1454",
        "outputId": "2a7891ee-b7c4-4634-de5c-ae83c34529aa"
      },
      "outputs": [
        {
          "name": "stdout",
          "output_type": "stream",
          "text": [
            "Accuracy Score: 0.9927130647437691\n",
            "Precision Score: 0.03428126217374367\n",
            "Recall Score: 0.17365564874198322\n",
            "F1 Score: 0.05725904839365597\n"
          ]
        }
      ],
      "source": [
        "from sklearn.metrics import accuracy_score\n",
        "from sklearn.metrics import precision_score\n",
        "from sklearn.metrics import recall_score\n",
        "from sklearn.metrics import f1_score\n",
        "\n",
        "\n",
        "print('Accuracy Score:', accuracy_score(y_test,y_pred))\n",
        "print('Precision Score:',precision_score(y_test,y_pred))\n",
        "print('Recall Score:',recall_score(y_test,y_pred))\n",
        "print('F1 Score:',f1_score(y_test,y_pred))"
      ]
    },
    {
      "cell_type": "markdown",
      "id": "6ab12288",
      "metadata": {
        "id": "6ab12288"
      },
      "source": [
        "# Decision Tree"
      ]
    },
    {
      "cell_type": "code",
      "execution_count": null,
      "id": "a99cf195",
      "metadata": {
        "id": "a99cf195",
        "outputId": "3998aba2-64de-4279-f242-d8884b66eeb0"
      },
      "outputs": [
        {
          "data": {
            "text/plain": [
              "DecisionTreeClassifier()"
            ]
          },
          "execution_count": 14,
          "metadata": {},
          "output_type": "execute_result"
        }
      ],
      "source": [
        "# Fitting Naive Bayes to the Training set  \n",
        "from sklearn.tree import DecisionTreeClassifier \n",
        "classifier = DecisionTreeClassifier()  \n",
        "classifier.fit(x_train, y_train) "
      ]
    },
    {
      "cell_type": "code",
      "execution_count": null,
      "id": "3c11c3ed",
      "metadata": {
        "id": "3c11c3ed"
      },
      "outputs": [],
      "source": [
        "# Predicting the Test set results  \n",
        "y_pred = classifier.predict(x_test)  "
      ]
    },
    {
      "cell_type": "code",
      "execution_count": null,
      "id": "3e9838bf",
      "metadata": {
        "id": "3e9838bf",
        "outputId": "a6fff929-1a73-473f-b6d2-50d4d5954769"
      },
      "outputs": [
        {
          "data": {
            "text/html": [
              "<div>\n",
              "<style scoped>\n",
              "    .dataframe tbody tr th:only-of-type {\n",
              "        vertical-align: middle;\n",
              "    }\n",
              "\n",
              "    .dataframe tbody tr th {\n",
              "        vertical-align: top;\n",
              "    }\n",
              "\n",
              "    .dataframe thead th {\n",
              "        text-align: right;\n",
              "    }\n",
              "</style>\n",
              "<table border=\"1\" class=\"dataframe\">\n",
              "  <thead>\n",
              "    <tr style=\"text-align: right;\">\n",
              "      <th></th>\n",
              "      <th>Actual Values</th>\n",
              "      <th>Predicted Values</th>\n",
              "    </tr>\n",
              "  </thead>\n",
              "  <tbody>\n",
              "    <tr>\n",
              "      <th>0</th>\n",
              "      <td>0</td>\n",
              "      <td>0</td>\n",
              "    </tr>\n",
              "    <tr>\n",
              "      <th>1</th>\n",
              "      <td>0</td>\n",
              "      <td>0</td>\n",
              "    </tr>\n",
              "    <tr>\n",
              "      <th>2</th>\n",
              "      <td>0</td>\n",
              "      <td>0</td>\n",
              "    </tr>\n",
              "    <tr>\n",
              "      <th>3</th>\n",
              "      <td>0</td>\n",
              "      <td>0</td>\n",
              "    </tr>\n",
              "    <tr>\n",
              "      <th>4</th>\n",
              "      <td>0</td>\n",
              "      <td>0</td>\n",
              "    </tr>\n",
              "    <tr>\n",
              "      <th>...</th>\n",
              "      <td>...</td>\n",
              "      <td>...</td>\n",
              "    </tr>\n",
              "    <tr>\n",
              "      <th>1590650</th>\n",
              "      <td>0</td>\n",
              "      <td>0</td>\n",
              "    </tr>\n",
              "    <tr>\n",
              "      <th>1590651</th>\n",
              "      <td>0</td>\n",
              "      <td>0</td>\n",
              "    </tr>\n",
              "    <tr>\n",
              "      <th>1590652</th>\n",
              "      <td>0</td>\n",
              "      <td>0</td>\n",
              "    </tr>\n",
              "    <tr>\n",
              "      <th>1590653</th>\n",
              "      <td>0</td>\n",
              "      <td>0</td>\n",
              "    </tr>\n",
              "    <tr>\n",
              "      <th>1590654</th>\n",
              "      <td>0</td>\n",
              "      <td>0</td>\n",
              "    </tr>\n",
              "  </tbody>\n",
              "</table>\n",
              "<p>1590655 rows × 2 columns</p>\n",
              "</div>"
            ],
            "text/plain": [
              "         Actual Values  Predicted Values\n",
              "0                    0                 0\n",
              "1                    0                 0\n",
              "2                    0                 0\n",
              "3                    0                 0\n",
              "4                    0                 0\n",
              "...                ...               ...\n",
              "1590650              0                 0\n",
              "1590651              0                 0\n",
              "1590652              0                 0\n",
              "1590653              0                 0\n",
              "1590654              0                 0\n",
              "\n",
              "[1590655 rows x 2 columns]"
            ]
          },
          "execution_count": 16,
          "metadata": {},
          "output_type": "execute_result"
        }
      ],
      "source": [
        "df = {'Actual Values':y_test, 'Predicted Values':y_pred}\n",
        "df = pd.DataFrame(data = df)\n",
        "df"
      ]
    },
    {
      "cell_type": "code",
      "execution_count": null,
      "id": "85366a15",
      "metadata": {
        "id": "85366a15",
        "outputId": "c5ccc4a6-843a-4cb7-8938-b0b524978168"
      },
      "outputs": [
        {
          "data": {
            "text/plain": [
              "array([[1588352,     276],\n",
              "       [    303,    1724]], dtype=int64)"
            ]
          },
          "execution_count": 17,
          "metadata": {},
          "output_type": "execute_result"
        }
      ],
      "source": [
        "# Making the Confusion Matrix  \n",
        "from sklearn.metrics import confusion_matrix  \n",
        "confused = confusion_matrix(y_test, y_pred)  \n",
        "confused"
      ]
    },
    {
      "cell_type": "code",
      "execution_count": null,
      "id": "1f7587ef",
      "metadata": {
        "id": "1f7587ef",
        "outputId": "b94176b8-39cf-4cb8-aead-2098dd790963"
      },
      "outputs": [
        {
          "data": {
            "image/png": "[encoded data removed]",
            "text/plain": [
              "<Figure size 432x288 with 2 Axes>"
            ]
          },
          "metadata": {
            "needs_background": "light"
          },
          "output_type": "display_data"
        }
      ],
      "source": [
        "ax = sns.heatmap(confused, annot=True, cmap='Blues')\n",
        "\n",
        "ax.set_title('Seaborn Confusion Matrix with labels\\n\\n');\n",
        "ax.set_xlabel('\\nPredicted Values')\n",
        "ax.set_ylabel('Actual Values ');\n",
        "\n",
        "## Ticket labels - List must be in alphabetical order\n",
        "ax.xaxis.set_ticklabels(['False','True'])\n",
        "ax.yaxis.set_ticklabels(['False','True'])\n",
        "\n",
        "## Display the visualization of the Confusion Matrix.\n",
        "plt.show()"
      ]
    },
    {
      "cell_type": "code",
      "execution_count": null,
      "id": "8bdfcbfb",
      "metadata": {
        "scrolled": true,
        "id": "8bdfcbfb",
        "outputId": "574c1e05-e94d-4518-860a-56ea9fd6d22a"
      },
      "outputs": [
        {
          "name": "stdout",
          "output_type": "stream",
          "text": [
            "Accuracy Score: 0.9996359990066985\n",
            "Precision Score: 0.862\n",
            "Recall Score: 0.8505180069067587\n",
            "F1 Score: 0.8562205115470573\n"
          ]
        }
      ],
      "source": [
        "print('Accuracy Score:', accuracy_score(y_test,y_pred))\n",
        "print('Precision Score:',precision_score(y_test,y_pred))\n",
        "print('Recall Score:',recall_score(y_test,y_pred))\n",
        "print('F1 Score:',f1_score(y_test,y_pred))"
      ]
    },
    {
      "cell_type": "markdown",
      "id": "91e8e09e",
      "metadata": {
        "id": "91e8e09e"
      },
      "source": [
        "# SVM"
      ]
    },
    {
      "cell_type": "code",
      "execution_count": null,
      "id": "be09ab25",
      "metadata": {
        "id": "be09ab25",
        "outputId": "35929f06-4b17-42ae-b8dd-17147b5433b5"
      },
      "outputs": [
        {
          "data": {
            "text/plain": [
              "SVC(kernel='linear', random_state=0)"
            ]
          },
          "execution_count": 20,
          "metadata": {},
          "output_type": "execute_result"
        }
      ],
      "source": [
        "from sklearn.svm import SVC # \"Support vector classifier\"  \n",
        "classifier = SVC(kernel='linear', random_state=0)  \n",
        "classifier.fit(x_train, y_train)  "
      ]
    },
    {
      "cell_type": "code",
      "execution_count": null,
      "id": "ab341806",
      "metadata": {
        "id": "ab341806"
      },
      "outputs": [],
      "source": [
        "#Predicting the test set result  \n",
        "y_pred= classifier.predict(x_test)  "
      ]
    },
    {
      "cell_type": "code",
      "execution_count": null,
      "id": "2bfd7677",
      "metadata": {
        "id": "2bfd7677"
      },
      "outputs": [],
      "source": [
        "#Creating the Confusion matrix  \n",
        "from sklearn.metrics import confusion_matrix  \n",
        "cm= confusion_matrix(y_test, y_pred)  "
      ]
    },
    {
      "cell_type": "code",
      "execution_count": null,
      "id": "3434c629",
      "metadata": {
        "id": "3434c629",
        "outputId": "21e7132b-063b-408a-cbd8-3f47ab041810"
      },
      "outputs": [
        {
          "data": {
            "image/png": "[encoded data removed]",
            "text/plain": [
              "<Figure size 432x288 with 2 Axes>"
            ]
          },
          "metadata": {
            "needs_background": "light"
          },
          "output_type": "display_data"
        }
      ],
      "source": [
        "import seaborn as sns\n",
        "import matplotlib.pyplot as plt\n",
        "ax = sns.heatmap(cm, annot=True, cmap='Blues')\n",
        "\n",
        "ax.set_title('Seaborn Confusion Matrix with labels\\n\\n');\n",
        "ax.set_xlabel('\\nPredicted Values')\n",
        "ax.set_ylabel('Actual Values ');\n",
        "\n",
        "## Ticket labels - List must be in alphabetical order\n",
        "ax.xaxis.set_ticklabels(['False','True'])\n",
        "ax.yaxis.set_ticklabels(['False','True'])\n",
        "\n",
        "## Display the visualization of the Confusion Matrix.\n",
        "plt.show()"
      ]
    },
    {
      "cell_type": "code",
      "execution_count": null,
      "id": "a3ff3672",
      "metadata": {
        "id": "a3ff3672",
        "outputId": "5924f711-20cb-4239-89a6-400bcf3e5357"
      },
      "outputs": [
        {
          "name": "stdout",
          "output_type": "stream",
          "text": [
            "Accuracy Score: 0.9991406055995801\n",
            "Precision Score: 0.96875\n",
            "Recall Score: 0.3364578194375925\n",
            "F1 Score: 0.4994507506407909\n"
          ]
        }
      ],
      "source": [
        "from sklearn.metrics import accuracy_score\n",
        "from sklearn.metrics import precision_score\n",
        "from sklearn.metrics import recall_score\n",
        "from sklearn.metrics import f1_score\n",
        "\n",
        "\n",
        "print('Accuracy Score:', accuracy_score(y_test,y_pred))\n",
        "print('Precision Score:',precision_score(y_test,y_pred))\n",
        "print('Recall Score:',recall_score(y_test,y_pred))\n",
        "print('F1 Score:',f1_score(y_test,y_pred))"
      ]
    },
    {
      "cell_type": "code",
      "execution_count": null,
      "id": "d0fbef50",
      "metadata": {
        "id": "d0fbef50",
        "outputId": "a7dbf4ad-0a42-4596-a44a-aaf98b076703"
      },
      "outputs": [
        {
          "data": {
            "text/html": [
              "<div>\n",
              "<style scoped>\n",
              "    .dataframe tbody tr th:only-of-type {\n",
              "        vertical-align: middle;\n",
              "    }\n",
              "\n",
              "    .dataframe tbody tr th {\n",
              "        vertical-align: top;\n",
              "    }\n",
              "\n",
              "    .dataframe thead th {\n",
              "        text-align: right;\n",
              "    }\n",
              "</style>\n",
              "<table border=\"1\" class=\"dataframe\">\n",
              "  <thead>\n",
              "    <tr style=\"text-align: right;\">\n",
              "      <th></th>\n",
              "      <th>Model</th>\n",
              "      <th>Accuracy Score</th>\n",
              "      <th>Precision</th>\n",
              "      <th>Recall</th>\n",
              "      <th>F1 Score</th>\n",
              "    </tr>\n",
              "  </thead>\n",
              "  <tbody>\n",
              "    <tr>\n",
              "      <th>0</th>\n",
              "      <td>Naive Bayes</td>\n",
              "      <td>0.992713</td>\n",
              "      <td>0.999141</td>\n",
              "      <td>0.173656</td>\n",
              "      <td>0.057259</td>\n",
              "    </tr>\n",
              "    <tr>\n",
              "      <th>1</th>\n",
              "      <td>Decision Tree</td>\n",
              "      <td>0.999636</td>\n",
              "      <td>0.862000</td>\n",
              "      <td>0.850518</td>\n",
              "      <td>0.856221</td>\n",
              "    </tr>\n",
              "    <tr>\n",
              "      <th>2</th>\n",
              "      <td>SVM</td>\n",
              "      <td>0.999141</td>\n",
              "      <td>0.968750</td>\n",
              "      <td>0.336458</td>\n",
              "      <td>0.499451</td>\n",
              "    </tr>\n",
              "  </tbody>\n",
              "</table>\n",
              "</div>"
            ],
            "text/plain": [
              "           Model  Accuracy Score  Precision    Recall  F1 Score\n",
              "0    Naive Bayes        0.992713   0.999141  0.173656  0.057259\n",
              "1  Decision Tree        0.999636   0.862000  0.850518  0.856221\n",
              "2            SVM        0.999141   0.968750  0.336458  0.499451"
            ]
          },
          "execution_count": 25,
          "metadata": {},
          "output_type": "execute_result"
        }
      ],
      "source": [
        "import pandas as pd\n",
        "accuracy_scores = {'Model': ['Naive Bayes','Decision Tree','SVM'], 'Accuracy Score': [0.9927130647437691,0.9996359990066985,0.9991406055995801],'Precision':[0.9991406055995801,0.862,0.96875],'Recall':[0.17365564874198322,0.8505180069067587,0.3364578194375925],'F1 Score':[0.05725904839365597,0.8562205115470573,0.4994507506407909]}\n",
        "\n",
        "metrics = pd.DataFrame(data = accuracy_scores)\n",
        "metrics"
      ]
    },
    {
      "cell_type": "code",
      "execution_count": null,
      "id": "9d0ac1a6",
      "metadata": {
        "id": "9d0ac1a6"
      },
      "outputs": [],
      "source": [
        ""
      ]
    }
  ],
  "metadata": {
    "kernelspec": {
      "display_name": "Python 3 (ipykernel)",
      "language": "python",
      "name": "python3"
    },
    "language_info": {
      "codemirror_mode": {
        "name": "ipython",
        "version": 3
      },
      "file_extension": ".py",
      "mimetype": "text/x-python",
      "name": "python",
      "nbconvert_exporter": "python",
      "pygments_lexer": "ipython3",
      "version": "3.9.7"
    },
    "colab": {
      "name": "Fraud_Detection.ipynb",
      "provenance": [],
      "include_colab_link": true
    }
  },
  "nbformat": 4,
  "nbformat_minor": 5
}